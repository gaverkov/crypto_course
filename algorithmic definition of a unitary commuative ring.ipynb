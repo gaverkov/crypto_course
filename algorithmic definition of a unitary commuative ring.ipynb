{
 "cells": [
  {
   "cell_type": "code",
   "execution_count": 95,
   "metadata": {},
   "outputs": [],
   "source": [
    "def is_closed(R,op):\n",
    "    \"\"\"\n",
    "        check if the binary operation closed in R\n",
    "    \"\"\"\n",
    "    return all([op(x,y) in R for x in R for y in R])\n",
    "\n",
    "def is_commutative(R,op):\n",
    "    \"\"\"\n",
    "        check if the binary operaton is commutative in R\n",
    "    \"\"\"\n",
    "    return all([op(x,y) == op(y,x) for x in R for y in R])\n",
    "\n",
    "def neutral(R,op):\n",
    "    \"\"\"\n",
    "        if the binary operation has a netural in R, the netural is returned,\n",
    "        otherwise None is returned\n",
    "    \"\"\"\n",
    "    for x in R: \n",
    "        if all([op(x,y) == y and op(y,x) == y for y in R]):\n",
    "            return x\n",
    "        \n",
    "def is_associative(R,op):\n",
    "    \"\"\"\n",
    "        check if the binary operation is associative in R\n",
    "    \"\"\"\n",
    "    return all( [ op(x,op(y,z)) == op(op(x,y),z) for x in R for y in R for z in R ])\n",
    "\n",
    "def distributive_law_holds(R,ADD,MUL):\n",
    "    \"\"\"\n",
    "        check if hte distributive law is true for ad and mu in R\n",
    "    \"\"\"\n",
    "    return all( [MUL(x,ADD(y,z)) == ADD(MUL(x,y),MUL(x,z)) for x in R for y in R for z in R])\n",
    "\n",
    "\n",
    "def all_invertible(R,op, nelem):\n",
    "    \"\"\"\n",
    "        check if all elemetns in R are invertible with respect to op, \n",
    "        assuming that neleme is a neutral element\n",
    "    \"\"\"\n",
    "    return all( [ any([op(x,y)==nelem for y in R ]) for x in R ] )\n",
    "\n",
    "def yesno(b):\n",
    "    if b: \n",
    "        return \"yes\"\n",
    "    return \"no\"\n",
    "\n",
    "def check_if_unitary_commutative_ring(R,ADD,MUL):\n",
    "    print(\"Closed with respect to addition?\", yesno(is_closed(R,ADD)))\n",
    "    print(\"Closed with respect to multiplication?\", yesno(is_closed(R,ADD)))\n",
    "    \n",
    "    print(\"Addition commutative?\", yesno(is_commutative(R,ADD)))\n",
    "    \n",
    "    print(\"Multiplication commutative?\", yesno(is_commutative(R,MUL)))\n",
    "    \n",
    "    print(\"Distributive law holds?\",yesno(distributive_law_holds(R,ADD,MUL)))\n",
    "\n",
    "    \n",
    "    print(\"Neutral element with respect to addition found?\")\n",
    "    zero = neutral(R,ADD)\n",
    "    if zero is None: \n",
    "        print(yesno(False))\n",
    "        return  \n",
    "    else:\n",
    "        print(yesno(True),\", it is \",zero)\n",
    "    print(\"Neutral element with respect to multiplication found?\")\n",
    "    one = neutral(R,MUL)\n",
    "    if one is None: \n",
    "        print(yesno(False))\n",
    "        return \n",
    "    else:\n",
    "        print(yesno(True),\", it is \",one)\n",
    "        \n",
    "    print(\"Neutral elements for addition and multiplication differ?\", zero != one)\n",
    "    \n",
    "    print(\"Every element has an additive inverse?\",yesno(all_invertible(R,ADD,zero)))\n"
   ]
  },
  {
   "cell_type": "code",
   "execution_count": 96,
   "metadata": {},
   "outputs": [
    {
     "name": "stdout",
     "output_type": "stream",
     "text": [
      "True\n",
      "False\n"
     ]
    }
   ],
   "source": [
    "print(is_closed([0,1], lambda x,y : (x+y) % 2))\n",
    "print(is_closed([0,1], lambda x,y : x+y))\n"
   ]
  },
  {
   "cell_type": "code",
   "execution_count": 97,
   "metadata": {},
   "outputs": [
    {
     "name": "stdout",
     "output_type": "stream",
     "text": [
      "True\n",
      "False\n"
     ]
    }
   ],
   "source": [
    "print(is_commutative([0,1,2], lambda x,y : (x+y) % 3))\n",
    "print(is_commutative([0,1,2], lambda x,y : (x-y) % 3))\n"
   ]
  },
  {
   "cell_type": "code",
   "execution_count": 98,
   "metadata": {},
   "outputs": [
    {
     "name": "stdout",
     "output_type": "stream",
     "text": [
      "0\n",
      "None\n"
     ]
    }
   ],
   "source": [
    "print(neutral([0,1,2], lambda x,y : (x+y) % 3))\n",
    "print(neutral([0,1,2], lambda x,y : (x-y) % 3))\n"
   ]
  },
  {
   "cell_type": "code",
   "execution_count": 99,
   "metadata": {},
   "outputs": [
    {
     "name": "stdout",
     "output_type": "stream",
     "text": [
      "True\n",
      "False\n"
     ]
    }
   ],
   "source": [
    "print(is_associative([0,1,2], lambda x,y : (x+y) % 3))\n",
    "print(is_associative([0,1,2], lambda x,y : (x-y) % 3))\n"
   ]
  },
  {
   "cell_type": "code",
   "execution_count": 100,
   "metadata": {},
   "outputs": [
    {
     "name": "stdout",
     "output_type": "stream",
     "text": [
      "True\n",
      "True\n"
     ]
    }
   ],
   "source": [
    "print(distributive_law_holds([0,1,2],lambda x,y : (x+y) %3 , lambda x,y : (x*y) % 3 ))\n",
    "print(distributive_law_holds([0,1,2],lambda x,y : (x-y) %3 , lambda x,y : (x*y) % 3 ))"
   ]
  },
  {
   "cell_type": "code",
   "execution_count": 101,
   "metadata": {},
   "outputs": [
    {
     "name": "stdout",
     "output_type": "stream",
     "text": [
      "Closed with respect to addition? yes\n",
      "Closed with respect to multiplication? yes\n",
      "Addition commutative? yes\n",
      "Multiplication commutative? yes\n",
      "Distributive law holds? yes\n",
      "Neutral element with respect to addition found?\n",
      "yes , it is  0\n",
      "Neutral element with respect to multiplication found?\n",
      "yes , it is  1\n",
      "Neutral elements for addition and multiplication differ? True\n",
      "Every element has an additive inverse? yes\n"
     ]
    }
   ],
   "source": [
    "R = IntegerModRing(6)\n",
    "check_if_unitary_commutative_ring(R, lambda x,y : x+ y , lambda x,y : x*y)"
   ]
  },
  {
   "cell_type": "code",
   "execution_count": 103,
   "metadata": {},
   "outputs": [
    {
     "name": "stdout",
     "output_type": "stream",
     "text": [
      "Closed with respect to addition? yes\n",
      "Closed with respect to multiplication? yes\n",
      "Addition commutative? yes\n",
      "Multiplication commutative? yes\n",
      "Distributive law holds? yes\n",
      "Neutral element with respect to addition found?\n",
      "yes , it is  False\n",
      "Neutral element with respect to multiplication found?\n",
      "yes , it is  True\n",
      "Neutral elements for addition and multiplication differ? True\n",
      "Every element has an additive inverse? no\n"
     ]
    }
   ],
   "source": [
    "check_if_unitary_commutative_ring([False, True], lambda x,y : x or y , lambda x,y : x and y)"
   ]
  },
  {
   "cell_type": "code",
   "execution_count": null,
   "metadata": {},
   "outputs": [],
   "source": [
    "R = IntegerModRing(1)\n",
    "check_if_unitary_commutative_ring(R, lambda x,y : x or y , lambda x,y : x and y)"
   ]
  }
 ],
 "metadata": {
  "kernelspec": {
   "display_name": "SageMath 9.3",
   "language": "sage",
   "name": "sagemath"
  },
  "language_info": {
   "codemirror_mode": {
    "name": "ipython",
    "version": 3
   },
   "file_extension": ".py",
   "mimetype": "text/x-python",
   "name": "python",
   "nbconvert_exporter": "python",
   "pygments_lexer": "ipython3",
   "version": "3.9.2"
  }
 },
 "nbformat": 4,
 "nbformat_minor": 4
}
