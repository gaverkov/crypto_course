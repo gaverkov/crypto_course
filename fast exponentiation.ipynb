{
 "cells": [
  {
   "cell_type": "code",
   "execution_count": 6,
   "metadata": {},
   "outputs": [],
   "source": [
    "def fast_recursive_power(x,e):\n",
    "    \"\"\"\n",
    "        e is a positive integer\n",
    "        x in a unitary commutative ring (it's a bit more than we actually need)\n",
    "        The result is x^e\n",
    "    \"\"\"\n",
    "    if e==1:\n",
    "        return x\n",
    "    if e % 2 ==0:\n",
    "        return fast_recursive_power(x^2,e//2)\n",
    "    return fast_recursive_power(x^2,(e-1)//2)*x\n",
    "        \n",
    "    "
   ]
  },
  {
   "cell_type": "code",
   "execution_count": 5,
   "metadata": {},
   "outputs": [
    {
     "name": "stdout",
     "output_type": "stream",
     "text": [
      "I am raising 2 to the power 10\n",
      "I am raising 4 to the power 5\n",
      "I am raising 16 to the power 2\n",
      "I am raising 256 to the power 1\n"
     ]
    },
    {
     "data": {
      "text/plain": [
       "1024"
      ]
     },
     "execution_count": 5,
     "metadata": {},
     "output_type": "execute_result"
    }
   ],
   "source": [
    "fast_recursive_power(2,10)"
   ]
  },
  {
   "cell_type": "code",
   "execution_count": null,
   "metadata": {},
   "outputs": [],
   "source": []
  }
 ],
 "metadata": {
  "kernelspec": {
   "display_name": "SageMath 9.3",
   "language": "sage",
   "name": "sagemath"
  },
  "language_info": {
   "codemirror_mode": {
    "name": "ipython",
    "version": 3
   },
   "file_extension": ".py",
   "mimetype": "text/x-python",
   "name": "python",
   "nbconvert_exporter": "python",
   "pygments_lexer": "ipython3",
   "version": "3.9.2"
  }
 },
 "nbformat": 4,
 "nbformat_minor": 4
}
