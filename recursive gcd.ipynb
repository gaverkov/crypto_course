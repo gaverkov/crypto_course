{
 "cells": [
  {
   "cell_type": "code",
   "execution_count": 9,
   "metadata": {},
   "outputs": [],
   "source": [
    "def rec_gcd(a,b):\n",
    "    assert 0<=a<=b\n",
    "    print(a,b)\n",
    "    if a==0:\n",
    "        return b\n",
    "    return rec_gcd(b % a, a)"
   ]
  },
  {
   "cell_type": "code",
   "execution_count": 10,
   "metadata": {},
   "outputs": [
    {
     "name": "stdout",
     "output_type": "stream",
     "text": [
      "13923314324121 134123412341347847209857230948570923\n",
      "689131739227 13923314324121\n",
      "140679539581 689131739227\n",
      "126413580903 140679539581\n",
      "14265958678 126413580903\n",
      "12285911479 14265958678\n",
      "1980047199 12285911479\n",
      "405628285 1980047199\n",
      "357534059 405628285\n",
      "48094226 357534059\n",
      "20874477 48094226\n",
      "6345272 20874477\n",
      "1838661 6345272\n",
      "829289 1838661\n",
      "180083 829289\n",
      "108957 180083\n",
      "71126 108957\n",
      "37831 71126\n",
      "33295 37831\n",
      "4536 33295\n",
      "1543 4536\n",
      "1450 1543\n",
      "93 1450\n",
      "55 93\n",
      "38 55\n",
      "17 38\n",
      "4 17\n",
      "1 4\n",
      "0 1\n"
     ]
    },
    {
     "data": {
      "text/plain": [
       "1"
      ]
     },
     "execution_count": 10,
     "metadata": {},
     "output_type": "execute_result"
    }
   ],
   "source": [
    "rec_gcd(13923314324121,134123412341347847209857230948570923)"
   ]
  },
  {
   "cell_type": "code",
   "execution_count": null,
   "metadata": {},
   "outputs": [],
   "source": []
  }
 ],
 "metadata": {
  "kernelspec": {
   "display_name": "SageMath 9.3",
   "language": "sage",
   "name": "sagemath"
  },
  "language_info": {
   "codemirror_mode": {
    "name": "ipython",
    "version": 3
   },
   "file_extension": ".py",
   "mimetype": "text/x-python",
   "name": "python",
   "nbconvert_exporter": "python",
   "pygments_lexer": "ipython3",
   "version": "3.9.2"
  }
 },
 "nbformat": 4,
 "nbformat_minor": 4
}
