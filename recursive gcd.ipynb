{
 "cells": [
  {
   "cell_type": "code",
   "execution_count": 5,
   "metadata": {},
   "outputs": [],
   "source": [
    "def rec_gcd(a,b):\n",
    "    assert 0<=a<=b\n",
    "    print(a,b)\n",
    "    if a==0:\n",
    "        return b\n",
    "    return rec_gcd(b % a, a)"
   ]
  },
  {
   "cell_type": "code",
   "execution_count": 8,
   "metadata": {},
   "outputs": [
    {
     "name": "stdout",
     "output_type": "stream",
     "text": [
      "1398419134 1234123412341234123412134123412341234123412341234124123441\n",
      "1127670891 1398419134\n",
      "270748243 1127670891\n",
      "44677919 270748243\n",
      "2680729 44677919\n",
      "1786255 2680729\n",
      "894474 1786255\n",
      "891781 894474\n",
      "2693 891781\n",
      "398 2693\n",
      "305 398\n",
      "93 305\n",
      "26 93\n",
      "15 26\n",
      "11 15\n",
      "4 11\n",
      "3 4\n",
      "1 3\n",
      "0 1\n"
     ]
    },
    {
     "data": {
      "text/plain": [
       "1"
      ]
     },
     "execution_count": 8,
     "metadata": {},
     "output_type": "execute_result"
    }
   ],
   "source": [
    "rec_gcd(1398419134,1234123412341234123412134123412341234123412341234124123441)"
   ]
  },
  {
   "cell_type": "code",
   "execution_count": null,
   "metadata": {},
   "outputs": [],
   "source": []
  }
 ],
 "metadata": {
  "kernelspec": {
   "display_name": "SageMath 9.3",
   "language": "sage",
   "name": "sagemath"
  },
  "language_info": {
   "codemirror_mode": {
    "name": "ipython",
    "version": 3
   },
   "file_extension": ".py",
   "mimetype": "text/x-python",
   "name": "python",
   "nbconvert_exporter": "python",
   "pygments_lexer": "ipython3",
   "version": "3.9.2"
  }
 },
 "nbformat": 4,
 "nbformat_minor": 4
}
