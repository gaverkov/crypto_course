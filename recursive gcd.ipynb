{
 "cells": [
  {
   "cell_type": "code",
   "execution_count": 9,
   "metadata": {},
   "outputs": [],
   "source": [
    "def rec_gcd(a,b):\n",
    "    assert 0<=a<=b\n",
    "    print(a,b)\n",
    "    if a==0:\n",
    "        return b\n",
    "    return rec_gcd(b % a, a)"
   ]
  },
  {
   "cell_type": "code",
   "execution_count": 11,
   "metadata": {},
   "outputs": [
    {
     "name": "stdout",
     "output_type": "stream",
     "text": [
      "13923314324122 134123412341347847209857230948570924\n",
      "7975760493690 13923314324122\n",
      "5947553830432 7975760493690\n",
      "2028206663258 5947553830432\n",
      "1891140503916 2028206663258\n",
      "137066159342 1891140503916\n",
      "109280432470 137066159342\n",
      "27785726872 109280432470\n",
      "25923251854 27785726872\n",
      "1862475018 25923251854\n",
      "1711076620 1862475018\n",
      "151398398 1711076620\n",
      "45694242 151398398\n",
      "14315672 45694242\n",
      "2747226 14315672\n",
      "579542 2747226\n",
      "429058 579542\n",
      "150484 429058\n",
      "128090 150484\n",
      "22394 128090\n",
      "16120 22394\n",
      "6274 16120\n",
      "3572 6274\n",
      "2702 3572\n",
      "870 2702\n",
      "92 870\n",
      "42 92\n",
      "8 42\n",
      "2 8\n",
      "0 2\n"
     ]
    },
    {
     "data": {
      "text/plain": [
       "2"
      ]
     },
     "execution_count": 11,
     "metadata": {},
     "output_type": "execute_result"
    }
   ],
   "source": [
    "rec_gcd(13923314324122,134123412341347847209857230948570924)"
   ]
  },
  {
   "cell_type": "code",
   "execution_count": 12,
   "metadata": {},
   "outputs": [
    {
     "data": {
      "text/plain": [
       "(2, 16033239840257189043164639937181859, -1664406191529)"
      ]
     },
     "execution_count": 12,
     "metadata": {},
     "output_type": "execute_result"
    }
   ],
   "source": [
    "xgcd(13923314324122,134123412341347847209857230948570924)"
   ]
  },
  {
   "cell_type": "code",
   "execution_count": 13,
   "metadata": {},
   "outputs": [
    {
     "data": {
      "text/plain": [
       "2"
      ]
     },
     "execution_count": 13,
     "metadata": {},
     "output_type": "execute_result"
    }
   ],
   "source": [
    "16033239840257189043164639937181859 * 13923314324122 + (-1664406191529)* 134123412341347847209857230948570924"
   ]
  },
  {
   "cell_type": "code",
   "execution_count": null,
   "metadata": {},
   "outputs": [],
   "source": []
  }
 ],
 "metadata": {
  "kernelspec": {
   "display_name": "SageMath 9.3",
   "language": "sage",
   "name": "sagemath"
  },
  "language_info": {
   "codemirror_mode": {
    "name": "ipython",
    "version": 3
   },
   "file_extension": ".py",
   "mimetype": "text/x-python",
   "name": "python",
   "nbconvert_exporter": "python",
   "pygments_lexer": "ipython3",
   "version": "3.9.2"
  }
 },
 "nbformat": 4,
 "nbformat_minor": 4
}
